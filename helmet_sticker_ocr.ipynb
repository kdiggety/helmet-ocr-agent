{
 "cells": [
  {
   "cell_type": "markdown",
   "id": "f96b0ee9",
   "metadata": {},
   "source": [
    "# Helmet Sticker OCR (Refactored)\n",
    "This notebook uses the shared `ocr_pipeline.py` to ensure consistent logic with CLI processing.\n",
    "\n",
    "You can use this notebook to:\n",
    "- Visually validate helmet detection\n",
    "- Inspect sticker crops\n",
    "- Run OCR and check extracted size/year\n",
    "- Debug your pipeline step-by-step"
   ]
  },
  {
   "cell_type": "code",
   "execution_count": null,
   "id": "1c2028b6",
   "metadata": {},
   "outputs": [],
   "source": [
    "import cv2\n",
    "from helmet_sticker_ocr_pipeline import process_image\n",
    "import pandas as pd\n",
    "import matplotlib.pyplot as plt\n",
    "import os"
   ]
  },
  {
   "cell_type": "markdown",
   "id": "3e484ac6",
   "metadata": {},
   "source": [
    "## Load and display your test image\n",
    "Place your test image inside the `photos/` folder and specify its name below:"
   ]
  },
  {
   "cell_type": "code",
   "execution_count": null,
   "id": "2517301c",
   "metadata": {},
   "outputs": [],
   "source": [
    "image_path = 'photos/photo_0.jpg'  # Update with your filename\n",
    "\n",
    "if not os.path.exists(image_path):\n",
    "    print(f\"Image {image_path} not found. Please place your test image in the photos/ folder.\")\n",
    "else:\n",
    "    img = cv2.imread(image_path)\n",
    "    img_rgb = cv2.cvtColor(img, cv2.COLOR_BGR2RGB)\n",
    "    plt.figure(figsize=(8, 8))\n",
    "    plt.imshow(img_rgb)\n",
    "    plt.title('Input Image')\n",
    "    plt.axis('off')\n",
    "    plt.show()"
   ]
  },
  {
   "cell_type": "markdown",
   "id": "3cb669fc",
   "metadata": {},
   "source": [
    "## Run the pipeline on the image\n",
    "This will detect helmets, detect stickers inside helmets, crop stickers, apply OCR, and output the summary."
   ]
  },
  {
   "cell_type": "code",
   "execution_count": null,
   "id": "7f2c2f70",
   "metadata": {},
   "outputs": [],
   "source": [
    "if os.path.exists(image_path):\n",
    "    summary = process_image(img, fname_prefix=os.path.basename(image_path).split('.')[0])\n",
    "    \n",
    "    df = pd.DataFrame([\n",
    "        {'Size': s, 'Year': y, 'Count': c}\n",
    "        for (s, y), c in summary.items()\n",
    "    ])\n",
    "\n",
    "    if not df.empty:\n",
    "        display(df)\n",
    "    else:\n",
    "        print(\"No size/year detected in this image.\")"
   ]
  }
 ],
 "metadata": {
  "kernelspec": {
   "display_name": "Python 3 (ipykernel)",
   "language": "python",
   "name": "python3"
  },
  "language_info": {
   "codemirror_mode": {
    "name": "ipython",
    "version": 3
   },
   "file_extension": ".py",
   "mimetype": "text/x-python",
   "name": "python",
   "nbconvert_exporter": "python",
   "pygments_lexer": "ipython3",
   "version": "3.13.5"
  }
 },
 "nbformat": 4,
 "nbformat_minor": 5
}
