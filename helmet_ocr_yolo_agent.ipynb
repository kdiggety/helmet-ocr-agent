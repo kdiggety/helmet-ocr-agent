{
 "cells": [
  {
   "cell_type": "markdown",
   "metadata": {},
   "source": [
    "# Helmet OCR with YOLOv8\n",
    "This notebook detects helmets in images, crops the sticker area, performs OCR, and summarizes size/year counts."
   ]
  },
  {
   "cell_type": "code",
   "execution_count": null,
   "metadata": {},
   "outputs": [],
   "source": [
    "import cv2\n",
    "import os\n",
    "import pytesseract\n",
    "import re\n",
    "from ultralytics import YOLO\n",
    "from collections import defaultdict\n",
    "import pandas as pd\n",
    "from matplotlib import pyplot as plt"
   ]
  },
  {
   "cell_type": "code",
   "execution_count": null,
   "metadata": {},
   "outputs": [],
   "source": [
    "model = YOLO('yolov8n.pt')"
   ]
  },
  {
   "cell_type": "code",
   "execution_count": null,
   "metadata": {},
   "outputs": [],
   "source": [
    "def detect_helmets(image):\n",
    "    results = model(image)\n",
    "    boxes = []\n",
    "    for result in results:\n",
    "        for box in result.boxes:\n",
    "            boxes.append(box.xyxy[0].tolist())\n",
    "    return boxes"
   ]
  },
  {
   "cell_type": "code",
   "execution_count": null,
   "metadata": {},
   "outputs": [],
   "source": [
    "def crop_sticker_region_from_helmet(image, box):\n",
    "    x1, y1, x2, y2 = [int(x) for x in box]\n",
    "    helmet_crop = image[y1:y2, x1:x2]\n",
    "    h, w = helmet_crop.shape[:2]\n",
    "    return helmet_crop[int(h*0.7):h, 0:int(w*0.4)]"
   ]
  },
  {
   "cell_type": "code",
   "execution_count": null,
   "metadata": {},
   "outputs": [],
   "source": [
    "def extract_size_year(crop_img):\n",
    "    gray = cv2.cvtColor(crop_img, cv2.COLOR_BGR2GRAY)\n",
    "    _, thresh = cv2.threshold(gray, 150, 255, cv2.THRESH_BINARY)\n",
    "    text = pytesseract.image_to_string(thresh)\n",
    "    match = re.search(r'(XS|S|M|L|XL|XXL)[\\s\\-]*(20\\d{2})', text)\n",
    "    return match.groups() if match else (None, None)"
   ]
  },
  {
   "cell_type": "code",
   "execution_count": null,
   "metadata": {},
   "outputs": [],
   "source": [
    "summary = defaultdict(int)\n",
    "for fname in os.listdir('photos'):\n",
    "    img = cv2.imread(f'photos/{fname}')\n",
    "    boxes = detect_helmets(img)\n",
    "    for i, box in enumerate(boxes):\n",
    "        crop = crop_sticker_region_from_helmet(img, box)\n",
    "        size, year = extract_size_year(crop)\n",
    "        if size and year:\n",
    "            summary[(size, year)] += 1\n",
    "        plt.imshow(cv2.cvtColor(crop, cv2.COLOR_BGR2RGB))\n",
    "        plt.title(f'{size} {year}')\n",
    "        plt.show()\n",
    "df = pd.DataFrame([{'Size': s, 'Year': y, 'Count': c} for (s, y), c in summary.items()])\n",
    "df"
   ]
  }
 ],
 "metadata": {
  "kernelspec": {
   "display_name": "Python 3",
   "language": "python",
   "name": "python3"
  },
  "language_info": {
   "name": "python"
  }
 },
 "nbformat": 4,
 "nbformat_minor": 5
}